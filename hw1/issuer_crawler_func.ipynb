{
 "cells": [
  {
   "cell_type": "code",
   "execution_count": 14,
   "metadata": {},
   "outputs": [],
   "source": [
    "from selenium import webdriver\n",
    "import pandas as pd\n",
    "import datetime\n",
    "from pathlib import Path\n",
    "import time\n",
    "import os\n",
    "\n",
    "import requests\n",
    "from bs4 import BeautifulSoup as bs\n",
    "import pandas_datareader.data as web   \n",
    "import re\n",
    "import wget\n",
    "\n",
    "chrome_driver_path = './chromedriver'\n",
    "etf_alt_file = './source_csv_files/Alternatives ETF List (35).csv'\n",
    "etf_vol_file = './source_csv_files/Volatility ETF List (18).csv'\n",
    "info_file = './csv_files/info.csv'\n",
    "download_location = './'\n",
    "\n",
    "csv_filepath=r'./csv_files/'"
   ]
  },
  {
   "cell_type": "code",
   "execution_count": 10,
   "metadata": {},
   "outputs": [],
   "source": [
    "df_info = pd.read_csv(info_file)"
   ]
  },
  {
   "cell_type": "code",
   "execution_count": 17,
   "metadata": {},
   "outputs": [],
   "source": [
    "def WisdomTree(df_info):\n",
    "    \n",
    "    df_WisdomTree = df_info[df_info['issuer'] == 'WisdomTree']\n",
    "    symbols = df_WisdomTree['symbol'].tolist()\n",
    "    \n",
    "    options = webdriver.ChromeOptions()\n",
    "    prefs = {\"download.default_directory\": download_location}\n",
    "    options.add_experimental_option(\"prefs\", prefs)\n",
    "    \n",
    "    for symbol in symbols:\n",
    "    \n",
    "        xpath_pattern = \"//a[contains(text(),'View NAV and Premium/Discount History')]\"\n",
    "        rename_command = \"mv *.csv \"\n",
    "        move_command = \"mv XXX.csv ./csv_files\"\n",
    "\n",
    "        target_url = os.path.join('https://www.wisdomtree.com/etfs/alternative', symbol)\n",
    "        driver = webdriver.Chrome(chrome_driver_path, chrome_options=options)\n",
    "        driver.minimize_window()\n",
    "        driver.get(target_url)\n",
    "\n",
    "        data_element = driver.find_element_by_xpath(xpath_pattern)\n",
    "        data_link = data_element.get_attribute(\"data-href\")\n",
    "\n",
    "        html_filename = symbol + \".html\"\n",
    "        wget.download(data_link, out=html_filename)\n",
    "        df_list = pd.read_html(html_filename)\n",
    "        df = df_list[0]\n",
    "        df.to_csv(csv_filepath + symbol + \".csv\" ,index=0)\n",
    "        print(symbol + \" is downloaded\")\n",
    "        \n",
    "        os.remove(html_filename)\n",
    "\n",
    "        driver.quit()"
   ]
  },
  {
   "cell_type": "code",
   "execution_count": 27,
   "metadata": {},
   "outputs": [],
   "source": [
    "def IndexIQ(df_info):\n",
    "    \n",
    "    df_IndexIQ = df_info[df_info['issuer'] == 'IndexIQ']\n",
    "    symbols = df_IndexIQ['symbol'].tolist()\n",
    "    \n",
    "    rename_command = \"mv *.csv \"\n",
    "    move_command = \"mv XXX.csv ./csv_files\"\n",
    "\n",
    "    options = webdriver.ChromeOptions()\n",
    "    prefs = {\"download.default_directory\": download_location}\n",
    "    options.add_experimental_option(\"prefs\", prefs)\n",
    "\n",
    "    for symbol in symbols:\n",
    "\n",
    "        xpath_pattern = \"//a[contains(text(), 'XXX')]\"\n",
    "        rename_command = \"mv *.csv \"\n",
    "        move_command = \"mv XXX.csv ./csv_files\"\n",
    "\n",
    "        target_url = os.path.join('https://www.nylinvestments.com/IQetfs', 'etfs')\n",
    "        driver = webdriver.Chrome(chrome_driver_path, chrome_options=options)\n",
    "        driver.minimize_window()\n",
    "        driver.get(target_url)\n",
    "\n",
    "        xpath_pattern = xpath_pattern.replace('XXX', symbol)\n",
    "\n",
    "        time.sleep(1)\n",
    "        \n",
    "        driver.find_element_by_xpath(xpath_pattern).click()\n",
    "        driver.find_element_by_partial_link_text('Download Historical').click()\n",
    "\n",
    "        time.sleep(3)\n",
    "\n",
    "        rename_command = rename_command + symbol + \".csv\"\n",
    "        os.system(rename_command)\n",
    "\n",
    "        move_command = move_command.replace('XXX', symbol)\n",
    "        os.system(move_command)\n",
    "\n",
    "        print(symbol + \" is downloaded\")\n",
    "        driver.quit()"
   ]
  },
  {
   "cell_type": "code",
   "execution_count": 30,
   "metadata": {},
   "outputs": [],
   "source": [
    "def SPDR(df_info):\n",
    "    df_SSS = df_info[df_info['issuer'] == 'State Street SPDR']\n",
    "    symbols = df_SSS['symbol'].tolist()\n",
    "    for symbol in symbols:\n",
    "        start = datetime.datetime(2015,12,31)\n",
    "        end = datetime.date.today()\n",
    "        df_nav = web.DataReader(symbol, \"yahoo\", start, end)\n",
    "        df_nav.to_csv(csv_filepath + symbol + \".csv\" ,index=0)\n",
    "        print(symbol + \" is downloaded\")"
   ]
  },
  {
   "cell_type": "code",
   "execution_count": 32,
   "metadata": {},
   "outputs": [],
   "source": [
    "def FirstTrust(df_info):\n",
    "    df_FT = df_info[df_info['issuer'] == 'First Trust']\n",
    "    symbols = df_FT['symbol'].tolist()\n",
    "    \n",
    "    for symbol in symbols:\n",
    "        start = datetime.datetime(2015,12,31)\n",
    "        end = datetime.date.today()\n",
    "        df_nav = web.DataReader(symbol, \"yahoo\", start, end)\n",
    "        df_nav.to_csv(csv_filepath + symbol + \".csv\" ,index=0)\n",
    "        print(symbol + \" is downloaded\")"
   ]
  },
  {
   "cell_type": "code",
   "execution_count": 34,
   "metadata": {},
   "outputs": [],
   "source": [
    "def ETC(df_info):\n",
    "    df_ETC = df_info[df_info['issuer'] == 'Exchange Traded Concepts']\n",
    "    symbols = df_ETC['symbol'].tolist()\n",
    "    \n",
    "    for symbol in symbols:\n",
    "        start = datetime.datetime(2015,12,31)\n",
    "        end = datetime.date.today()\n",
    "        df_nav = web.DataReader(symbol, \"yahoo\", start, end)\n",
    "        df_nav.to_csv(csv_filepath + symbol + \".csv\" ,index=0)\n",
    "        print(symbol + \" is downloaded\")"
   ]
  },
  {
   "cell_type": "code",
   "execution_count": null,
   "metadata": {},
   "outputs": [],
   "source": []
  }
 ],
 "metadata": {
  "kernelspec": {
   "display_name": "Python 3",
   "language": "python",
   "name": "python3"
  },
  "language_info": {
   "codemirror_mode": {
    "name": "ipython",
    "version": 3
   },
   "file_extension": ".py",
   "mimetype": "text/x-python",
   "name": "python",
   "nbconvert_exporter": "python",
   "pygments_lexer": "ipython3",
   "version": "3.6.6"
  }
 },
 "nbformat": 4,
 "nbformat_minor": 2
}
