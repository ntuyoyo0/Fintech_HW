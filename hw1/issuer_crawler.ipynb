{
 "cells": [
  {
   "cell_type": "code",
   "execution_count": 13,
   "metadata": {},
   "outputs": [],
   "source": [
    "from selenium import webdriver\n",
    "import pandas as pd\n",
    "import datetime\n",
    "from pathlib import Path\n",
    "import time\n",
    "import os\n",
    "\n",
    "import requests\n",
    "from bs4 import BeautifulSoup as bs\n",
    "import pandas_datareader.data as web   \n",
    "import re\n",
    "import wget\n",
    "\n",
    "chrome_driver_path = './chromedriver'\n",
    "etf_alt_file = './source_csv_files/Alternatives ETF List (35).csv'\n",
    "etf_vol_file = './source_csv_files/Volatility ETF List (18).csv'\n",
    "info_file = './csv_files/info.csv'\n",
    "download_location = './'\n",
    "\n",
    "etfdb_url = 'https://etfdb.com/etfs/'\n",
    "etf_prefix_url = 'https://etfdb.com/etf/'"
   ]
  },
  {
   "cell_type": "code",
   "execution_count": 14,
   "metadata": {},
   "outputs": [],
   "source": [
    "df_info = pd.read_csv(info_file)"
   ]
  },
  {
   "cell_type": "markdown",
   "metadata": {},
   "source": [
    "## WisdomTree"
   ]
  },
  {
   "cell_type": "code",
   "execution_count": 127,
   "metadata": {},
   "outputs": [],
   "source": [
    "df_WisdomTree = df_info[df_info['issuer'] == 'WisdomTree']"
   ]
  },
  {
   "cell_type": "code",
   "execution_count": 130,
   "metadata": {},
   "outputs": [],
   "source": [
    "symbols = df_WisdomTree['symbol'].tolist()"
   ]
  },
  {
   "cell_type": "code",
   "execution_count": 131,
   "metadata": {},
   "outputs": [
    {
     "data": {
      "text/plain": [
       "['WTMF', 'DYLS']"
      ]
     },
     "execution_count": 131,
     "metadata": {},
     "output_type": "execute_result"
    }
   ],
   "source": [
    "symbols"
   ]
  },
  {
   "cell_type": "code",
   "execution_count": 171,
   "metadata": {},
   "outputs": [
    {
     "name": "stderr",
     "output_type": "stream",
     "text": [
      "/usr/local/lib/python3.6/dist-packages/ipykernel_launcher.py:14: DeprecationWarning: use options instead of chrome_options\n",
      "  \n"
     ]
    },
    {
     "name": "stdout",
     "output_type": "stream",
     "text": [
      "https://www.wisdomtree.com/global/etf-details/modals/nav-premium-discount-history?id={F00CF622-A204-495D-839C-31FC915983C2}\n",
      "WTMF is downloaded\n",
      "https://www.wisdomtree.com/global/etf-details/modals/nav-premium-discount-history?id={914BFA53-7734-44AA-8ADC-612D955370A2}\n",
      "DYLS is downloaded\n"
     ]
    }
   ],
   "source": [
    "path=r'./csv_files/'\n",
    "\n",
    "options = webdriver.ChromeOptions()\n",
    "prefs = {\"download.default_directory\": download_location}\n",
    "options.add_experimental_option(\"prefs\", prefs)\n",
    "\n",
    "for symbol in symbols:\n",
    "    \n",
    "    xpath_pattern = \"//a[contains(text(),'View NAV and Premium/Discount History')]\"\n",
    "    rename_command = \"mv *.csv \"\n",
    "    move_command = \"mv XXX.csv ./csv_files\"\n",
    "\n",
    "    target_url = os.path.join('https://www.wisdomtree.com/etfs/alternative', symbol)\n",
    "    driver = webdriver.Chrome(chrome_driver_path, chrome_options=options)\n",
    "    #     driver.minimize_window()\n",
    "    driver.get(target_url)\n",
    "\n",
    "    data_element = driver.find_element_by_xpath(xpath_pattern)\n",
    "    data_link = data_element.get_attribute(\"data-href\")\n",
    "    print(data_link)\n",
    "    \n",
    "    html_filename = symbol + \".html\"\n",
    "    wget.download(data_link, out=html_filename)\n",
    "    df_list = pd.read_html(html_filename)\n",
    "    df = df_list[0]\n",
    "    df.to_csv(path + symbol + \".csv\" ,index=0)\n",
    "    print(symbol + \" is downloaded\")\n",
    "    \n",
    "    driver.quit()"
   ]
  },
  {
   "cell_type": "markdown",
   "metadata": {},
   "source": [
    "## IndexIQ"
   ]
  },
  {
   "cell_type": "code",
   "execution_count": 110,
   "metadata": {},
   "outputs": [],
   "source": [
    "df_IndexIQ = df_info[df_info['issuer'] == 'IndexIQ']"
   ]
  },
  {
   "cell_type": "code",
   "execution_count": 111,
   "metadata": {},
   "outputs": [],
   "source": [
    "symbols = df_IndexIQ['symbol'].tolist()"
   ]
  },
  {
   "cell_type": "code",
   "execution_count": 119,
   "metadata": {},
   "outputs": [
    {
     "name": "stderr",
     "output_type": "stream",
     "text": [
      "/usr/local/lib/python3.6/dist-packages/ipykernel_launcher.py:15: DeprecationWarning: use options instead of chrome_options\n",
      "  from ipykernel import kernelapp as app\n"
     ]
    },
    {
     "name": "stdout",
     "output_type": "stream",
     "text": [
      "QAI is downloaded\n",
      "MNA is downloaded\n",
      "CPI is downloaded\n",
      "QMN is downloaded\n",
      "MCRO is downloaded\n",
      "QLS is downloaded\n",
      "QED is downloaded\n"
     ]
    }
   ],
   "source": [
    "rename_command = \"mv *.csv \"\n",
    "move_command = \"mv XXX.csv ./csv_files\"\n",
    "\n",
    "options = webdriver.ChromeOptions()\n",
    "prefs = {\"download.default_directory\": download_location}\n",
    "options.add_experimental_option(\"prefs\", prefs)\n",
    "\n",
    "for symbol in symbols:\n",
    "    \n",
    "    xpath_pattern = \"//a[contains(text(), 'XXX')]\"\n",
    "    rename_command = \"mv *.csv \"\n",
    "    move_command = \"mv XXX.csv ./csv_files\"\n",
    "    \n",
    "    target_url = os.path.join('https://www.nylinvestments.com/IQetfs', 'etfs')\n",
    "    driver = webdriver.Chrome(chrome_driver_path, chrome_options=options)\n",
    "    driver.minimize_window()\n",
    "    driver.get(target_url)\n",
    "\n",
    "    xpath_pattern = xpath_pattern.replace('XXX', symbol)\n",
    "    \n",
    "    driver.find_element_by_xpath(xpath_pattern).click()\n",
    "    driver.find_element_by_partial_link_text('Download Historical').click()\n",
    "\n",
    "    time.sleep(3)\n",
    "    \n",
    "    rename_command = rename_command + symbol + \".csv\"\n",
    "    os.system(rename_command)\n",
    "    \n",
    "    move_command = move_command.replace('XXX', symbol)\n",
    "    os.system(move_command)\n",
    "    \n",
    "    print(symbol + \" is downloaded\")\n",
    "    driver.quit()"
   ]
  },
  {
   "cell_type": "markdown",
   "metadata": {},
   "source": [
    "## State Street SPDR"
   ]
  },
  {
   "cell_type": "markdown",
   "metadata": {},
   "source": [
    "### 太會擋"
   ]
  },
  {
   "cell_type": "code",
   "execution_count": 16,
   "metadata": {},
   "outputs": [],
   "source": [
    "df_SSS = df_info[df_info['issuer'] == 'State Street SPDR']"
   ]
  },
  {
   "cell_type": "code",
   "execution_count": 17,
   "metadata": {},
   "outputs": [],
   "source": [
    "target_url = 'https://us.spdrs.com/site-content/xls/RLY_HistoricalNav.xls?fund=RLY&docname=Most+Recent+NAV+%2F+NAV+History&onyx_code1=&onyx_code2='"
   ]
  },
  {
   "cell_type": "code",
   "execution_count": 18,
   "metadata": {},
   "outputs": [],
   "source": [
    "## https://us.spdrs.com/etf/spdr-ssga-multi-asset-real-return-etf-RLY"
   ]
  },
  {
   "cell_type": "markdown",
   "metadata": {},
   "source": [
    "### 改用 Yahoo Finance"
   ]
  },
  {
   "cell_type": "code",
   "execution_count": 19,
   "metadata": {},
   "outputs": [],
   "source": [
    "symbols = df_SSS['symbol'].tolist()"
   ]
  },
  {
   "cell_type": "code",
   "execution_count": 20,
   "metadata": {},
   "outputs": [
    {
     "data": {
      "text/plain": [
       "['RLY']"
      ]
     },
     "execution_count": 20,
     "metadata": {},
     "output_type": "execute_result"
    }
   ],
   "source": [
    "symbols"
   ]
  },
  {
   "cell_type": "code",
   "execution_count": 21,
   "metadata": {},
   "outputs": [],
   "source": [
    "start = datetime.datetime(2015,12,31)\n",
    "end = datetime.date.today()\n",
    "df_nav = web.DataReader(\"RLY\", \"yahoo\", start, end)"
   ]
  },
  {
   "cell_type": "code",
   "execution_count": 22,
   "metadata": {},
   "outputs": [],
   "source": [
    "path=r'./csv_files/'\n",
    "df_nav.to_csv(path + symbols[0] + \".csv\" ,index=0)"
   ]
  },
  {
   "cell_type": "markdown",
   "metadata": {},
   "source": [
    "## First Trust"
   ]
  },
  {
   "cell_type": "code",
   "execution_count": 26,
   "metadata": {},
   "outputs": [],
   "source": [
    "df_FT = df_info[df_info['issuer'] == 'First Trust']"
   ]
  },
  {
   "cell_type": "code",
   "execution_count": 28,
   "metadata": {},
   "outputs": [],
   "source": [
    "symbols = df_FT['symbol'].tolist()"
   ]
  },
  {
   "cell_type": "markdown",
   "metadata": {},
   "source": [
    "#### FTLS 官網連不上 (改用 Yahoo Finance)"
   ]
  },
  {
   "cell_type": "markdown",
   "metadata": {},
   "source": [
    "#### FMF 官網連不上 (改用 Yahoo Finance)"
   ]
  },
  {
   "cell_type": "code",
   "execution_count": 30,
   "metadata": {},
   "outputs": [],
   "source": [
    "for symbol in symbols:\n",
    "    start = datetime.datetime(2015,12,31)\n",
    "    end = datetime.date.today()\n",
    "    df_nav = web.DataReader(symbol, \"yahoo\", start, end)\n",
    "    path=r'./csv_files/'\n",
    "    df_nav.to_csv(path + symbol + \".csv\" ,index=0)"
   ]
  },
  {
   "cell_type": "markdown",
   "metadata": {},
   "source": [
    "## Exchange Traded Concepts"
   ]
  },
  {
   "cell_type": "code",
   "execution_count": 31,
   "metadata": {},
   "outputs": [],
   "source": [
    "df_ETC = df_info[df_info['issuer'] == 'Exchange Traded Concepts']"
   ]
  },
  {
   "cell_type": "markdown",
   "metadata": {},
   "source": [
    "#### FLAG 有官網但不知如何下載歷年資料"
   ]
  },
  {
   "cell_type": "code",
   "execution_count": 202,
   "metadata": {},
   "outputs": [],
   "source": [
    "## https://flagetf.com/"
   ]
  },
  {
   "cell_type": "markdown",
   "metadata": {},
   "source": [
    "#### HTUS 有官網但不知如何下載歷年資料"
   ]
  },
  {
   "cell_type": "code",
   "execution_count": 203,
   "metadata": {},
   "outputs": [],
   "source": [
    "## https://hulltacticalfunds.com/"
   ]
  },
  {
   "cell_type": "code",
   "execution_count": 34,
   "metadata": {},
   "outputs": [],
   "source": [
    "symbols = df_ETC['symbol'].tolist()"
   ]
  },
  {
   "cell_type": "code",
   "execution_count": 36,
   "metadata": {},
   "outputs": [],
   "source": [
    "for symbol in symbols:\n",
    "    start = datetime.datetime(2015,12,31)\n",
    "    end = datetime.date.today()\n",
    "    df_nav = web.DataReader(symbol, \"yahoo\", start, end)\n",
    "    path=r'./csv_files/'\n",
    "    df_nav.to_csv(path + symbol + \".csv\" ,index=0)"
   ]
  },
  {
   "cell_type": "code",
   "execution_count": null,
   "metadata": {},
   "outputs": [],
   "source": []
  }
 ],
 "metadata": {
  "kernelspec": {
   "display_name": "Python 3",
   "language": "python",
   "name": "python3"
  },
  "language_info": {
   "codemirror_mode": {
    "name": "ipython",
    "version": 3
   },
   "file_extension": ".py",
   "mimetype": "text/x-python",
   "name": "python",
   "nbconvert_exporter": "python",
   "pygments_lexer": "ipython3",
   "version": "3.6.6"
  }
 },
 "nbformat": 4,
 "nbformat_minor": 2
}
