{
 "cells": [
  {
   "cell_type": "code",
   "execution_count": 1,
   "metadata": {},
   "outputs": [],
   "source": [
    "from selenium import webdriver\n",
    "import pandas as pd\n",
    "import datetime\n",
    "from pathlib import Path\n",
    "import time\n",
    "import os\n",
    "\n",
    "import requests\n",
    "from bs4 import BeautifulSoup as bs\n",
    "import re\n",
    "import wget\n",
    "\n",
    "chrome_driver_path = './chromedriver'\n",
    "etf_alt_file = './source_csv_files/Alternatives ETF List (35).csv'\n",
    "etf_vol_file = './source_csv_files/Volatility ETF List (18).csv'\n",
    "info_file = \"./csv_files/info.csv\"\n",
    "download_location = './'\n",
    "\n",
    "etfdb_url = 'https://etfdb.com/etfs/'\n",
    "etf_prefix_url = 'https://etfdb.com/etf/'\n",
    "\n",
    "etf_start_inception = datetime.date(2015, 12, 31)"
   ]
  },
  {
   "cell_type": "code",
   "execution_count": 2,
   "metadata": {},
   "outputs": [],
   "source": [
    "etf_alt = pd.read_csv(etf_alt_file)\n",
    "etf_vol = pd.read_csv(etf_vol_file)"
   ]
  },
  {
   "cell_type": "markdown",
   "metadata": {},
   "source": [
    "## Filter the ETF "
   ]
  },
  {
   "cell_type": "code",
   "execution_count": 3,
   "metadata": {},
   "outputs": [],
   "source": [
    "etf_alt['Inception'] = pd.to_datetime(etf_alt.Inception, format=\"%Y-%m-%d\")"
   ]
  },
  {
   "cell_type": "code",
   "execution_count": 4,
   "metadata": {},
   "outputs": [],
   "source": [
    "etf_vol['Inception'] = pd.to_datetime(etf_vol.Inception, format=\"%d/%m/%Y\")"
   ]
  },
  {
   "cell_type": "code",
   "execution_count": 5,
   "metadata": {},
   "outputs": [],
   "source": [
    "etf_alt_filtered = etf_alt[etf_alt['Inception'] < '2015-12-31']"
   ]
  },
  {
   "cell_type": "code",
   "execution_count": 6,
   "metadata": {},
   "outputs": [],
   "source": [
    "etf_vol_filtered = etf_vol[etf_vol['Inception'] < '2015-12-31']"
   ]
  },
  {
   "cell_type": "markdown",
   "metadata": {},
   "source": [
    "## Collect all symbols"
   ]
  },
  {
   "cell_type": "code",
   "execution_count": 7,
   "metadata": {},
   "outputs": [],
   "source": [
    "alt_symbols = etf_alt_filtered['Symbol'].tolist()\n",
    "vol_symbols = etf_vol_filtered['Symbol'].tolist()\n",
    "\n",
    "all_symbols = []\n",
    "all_symbols.extend(alt_symbols)\n",
    "all_symbols.extend(vol_symbols)"
   ]
  },
  {
   "cell_type": "markdown",
   "metadata": {},
   "source": [
    "## info crawler"
   ]
  },
  {
   "cell_type": "code",
   "execution_count": 8,
   "metadata": {},
   "outputs": [
    {
     "name": "stdout",
     "output_type": "stream",
     "text": [
      "1 QAI: IndexIQ    http://www.indexiq.com/etfs/etfsiqh/etfsiqhmultistrat.html\n",
      "2 MNA: IndexIQ    http://www.indexiq.com/etfs/etfsiqh/iq-merger-arbitrage-etf.html\n",
      "3 WTMF: WisdomTree    https://www.wisdomtree.com/etfs/alternative/wtmf\n",
      "4 FTLS: First Trust    http://www.ftportfolios.com/Retail/Etf/EtfSummary.aspx?Ticker=FTLS\n",
      "5 DYLS: WisdomTree    http://www.wisdomtree.com/etfs/fund-details-alternative.aspx?etfid=124\n",
      "6 RLY: State Street SPDR    https://www.spdrs.com/product/fund.seam?ticker=RLY\n",
      "7 DIVY: Reality Shares    http://www.realityshares.com/funds/divy/\n",
      "8 CPI: IndexIQ    http://www.indexiq.com/etfs/real-return-inflation-hedge/iq-real-return-etf.html\n",
      "9 HTUS: Exchange Traded Concepts    http://www.hulltacticalfunds.com/fund-summary.aspx\n",
      "10 BTAL: AGFiQ Asset Management    http://www.quant-shares.com/etf-list/anti-beta-etf-btal/\n",
      "11 HDG: ProShares    http://proshares.com/funds/hdg.html\n",
      "12 VAMO: Cambria    http://www.cambriafunds.com/vamo.aspx\n",
      "13 QMN: IndexIQ    http://www.indexiq.com/etfs/etfsiqh/iq-hedge-market-neutral-tracker-etf.html\n",
      "14 FLAG: Exchange Traded Concepts    http://www.flagetf.com/\n",
      "15 FMF: First Trust    http://www.ftportfolios.com/Retail/Etf/EtfSummary.aspx?Ticker=FMF\n",
      "16 RALS: ProShares    http://proshares.com/funds/rals.html\n",
      "17 MOM: AGFiQ Asset Management    http://www.quant-shares.com/etf-list/momentum-etf-mom/\n",
      "18 ALTS: ProShares    http://www.proshares.com/funds/alts.html\n",
      "19 MCRO: IndexIQ    http://www.indexiq.com/etfs/etfsiqh/etfsiqhmacro.html\n",
      "20 QLS: IndexIQ    http://www.indexiq.com/etfs/etfsiqh/iq-hedge-longshort-etf.html\n",
      "21 MRGR: ProShares    http://www.proshares.com/funds/mrgr.html\n",
      "22 DIVA: AGFiQ Asset Management    http://www.quant-shares.com/etf-list/hedged-dividend-income-etf-diva/\n",
      "23 QED: IndexIQ    http://www.indexiq.com/etfs/etfsiqh/etfsiqheventdriven.html\n",
      "24 SIZ: AGFiQ Asset Management    http://www.quant-shares.com/etf-list/size-etf-siz/\n",
      "25 CHEP: AGFiQ Asset Management    http://www.quant-shares.com/etf-list/value-etf-chep/\n",
      "26 SVXY: ProShares    http://proshares.com/funds/svxy.html\n",
      "27 TVIX: Credit Suisse    http://www.velocitysharesetns.com/tvix\n",
      "28 UVXY: ProShares    http://proshares.com/funds/uvxy.html\n",
      "29 VIXY: ProShares    http://proshares.com/funds/vixy.html\n",
      "30 ZIV: Credit Suisse    http://www.velocitysharesetns.com/ziv\n",
      "31 VIXM: ProShares    http://proshares.com/funds/vixm.html\n",
      "32 VIIX: Credit Suisse    http://www.velocitysharesetns.com/viix\n",
      "33 XVZ: Barclays Capital    http://www.ipathetn.com/us/product/XVZ/\n"
     ]
    }
   ],
   "source": [
    "symbol_list = []\n",
    "issuer_list = []\n",
    "hp_url_list = []\n",
    "\n",
    "count = 0\n",
    "\n",
    "for symbol in all_symbols:\n",
    "    target_url = os.path.join(etf_prefix_url, symbol)\n",
    "    res = requests.get(target_url)\n",
    "    soup = bs(res.text,features='html.parser')\n",
    "    \n",
    "    findHomepage = soup.find(\"a\", text=\"Home page\")\n",
    "    hp_url = findHomepage.get('href')\n",
    "    \n",
    "    findIssuer = soup.find(\"a\", href=re.compile(\"/issuer/\"))\n",
    "    issuer_text = findIssuer.string\n",
    "    \n",
    "    count += 1\n",
    "    print(str(count) + \" \" + symbol + ': ' + issuer_text + '    ' + hp_url)\n",
    "    \n",
    "    symbol_list.append(symbol)\n",
    "    issuer_list.append(issuer_text)\n",
    "    hp_url_list.append(hp_url)\n",
    "    \n",
    "    time.sleep(2)"
   ]
  },
  {
   "cell_type": "markdown",
   "metadata": {},
   "source": [
    "## Create a directory"
   ]
  },
  {
   "cell_type": "code",
   "execution_count": 9,
   "metadata": {},
   "outputs": [
    {
     "name": "stdout",
     "output_type": "stream",
     "text": [
      "Create csv_files/\n"
     ]
    }
   ],
   "source": [
    "my_file = Path(\"./csv_files\")\n",
    "if my_file.is_dir():\n",
    "    print(\"csv_files/ exists !\")\n",
    "else:\n",
    "    Path('./csv_files').mkdir(exist_ok=False) \n",
    "    print(\"Create csv_files/\")"
   ]
  },
  {
   "cell_type": "markdown",
   "metadata": {},
   "source": [
    "## Create info.csv"
   ]
  },
  {
   "cell_type": "code",
   "execution_count": 10,
   "metadata": {},
   "outputs": [],
   "source": [
    "df_dict = {'symbol': symbol_list, 'issuer': issuer_list, 'homepage': hp_url_list}\n",
    "df = pd.DataFrame(data=df_dict)\n",
    "df.to_csv(info_file)"
   ]
  },
  {
   "cell_type": "code",
   "execution_count": 11,
   "metadata": {},
   "outputs": [
    {
     "name": "stdout",
     "output_type": "stream",
     "text": [
      "True\n",
      "info.csv exists !\n"
     ]
    }
   ],
   "source": [
    "my_file = Path(info_file)\n",
    "print(my_file.is_file())\n",
    "if my_file.is_file():\n",
    "    print(\"info.csv exists !\")\n",
    "else:\n",
    "    df_dict = {'symbol': symbol_list, 'issuer': issuer_list, 'homepage': hp_url_list}\n",
    "    df = pd.DataFrame(data=df_dict)\n",
    "    df.to_csv(info_file ,index=0)\n",
    "    print(\"Create \" + info_file)"
   ]
  },
  {
   "cell_type": "code",
   "execution_count": null,
   "metadata": {},
   "outputs": [],
   "source": []
  }
 ],
 "metadata": {
  "kernelspec": {
   "display_name": "Python 3",
   "language": "python",
   "name": "python3"
  },
  "language_info": {
   "codemirror_mode": {
    "name": "ipython",
    "version": 3
   },
   "file_extension": ".py",
   "mimetype": "text/x-python",
   "name": "python",
   "nbconvert_exporter": "python",
   "pygments_lexer": "ipython3",
   "version": "3.6.6"
  }
 },
 "nbformat": 4,
 "nbformat_minor": 2
}
