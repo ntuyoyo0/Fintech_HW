{
 "cells": [
  {
   "cell_type": "code",
   "execution_count": null,
   "metadata": {},
   "outputs": [],
   "source": [
    "import requests\n",
    "from bs4 import BeautifulSoup as bs\n",
    "import pandas as pd\n",
    "import re\n",
    "import time\n",
    "import wget\n",
    "from selenium import webdriver"
   ]
  },
  {
   "cell_type": "code",
   "execution_count": null,
   "metadata": {},
   "outputs": [],
   "source": [
    "options = webdriver.ChromeOptions()\n",
    "prefs = {}\n",
    "prefs[\"download.default_directory\"] = 'C:\\\\Users\\\\AngelYang\\\\Documents\\\\GitHub\\\\107-2-Fintech-Course\\\\Individual Homework\\\\IHW01'\n",
    "prefs[\"profile.default_content_settings\"] = { \"popups\": 1 }\n",
    "options.add_experimental_option('prefs', prefs)\n",
    "\n",
    "driver = webdriver.Chrome()\n",
    "driver.get('https://finance.yahoo.com/')\n",
    "driver.implicitly_wait(30)\n",
    "driver.find_element_by_name(\"yfin-usr-qry\").send_keys('DIVY')\n",
    "driver.find_element_by_id(\"search-button\").click()\n",
    "driver.find_element_by_xpath('//*[@id=\"quote-nav\"]/ul/li[4]/a/span').click()\n",
    "driver.find_element_by_xpath('//*[@id=\"Col1-1-HistoricalDataTable-Proxy\"]/section/div[1]/div[1]/div[1]/span[2]/div/div[1]/span[8]/span').click()\n",
    "driver.find_element_by_link_text('Done').click()\n",
    "driver.find_element_by_link_text('Apply').click()\n",
    "driver.find_element_by_link_text('Download Data').click()\n",
    "print('download: DIVY')\n",
    "time.sleep(2)\n",
    "driver.quit()   "
   ]
  }
 ],
 "metadata": {
  "kernelspec": {
   "display_name": "Python 3",
   "language": "python",
   "name": "python3"
  },
  "language_info": {
   "codemirror_mode": {
    "name": "ipython",
    "version": 3
   },
   "file_extension": ".py",
   "mimetype": "text/x-python",
   "name": "python",
   "nbconvert_exporter": "python",
   "pygments_lexer": "ipython3",
   "version": "3.7.1"
  }
 },
 "nbformat": 4,
 "nbformat_minor": 2
}
